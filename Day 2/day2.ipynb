{
 "cells": [
  {
   "cell_type": "code",
   "execution_count": 11,
   "metadata": {},
   "outputs": [],
   "source": [
    "input_list = [int(op) for op in open(\"day2_data.txt\").readline().split(\",\")]"
   ]
  },
  {
   "cell_type": "code",
   "execution_count": 12,
   "metadata": {},
   "outputs": [],
   "source": [
    "#Day 2 Problem 1\n",
    "def intcode(list):\n",
    "    p = 0\n",
    "    q = 4\n",
    "    while p < len(list):\n",
    "        sub_list = list[p:q]\n",
    "        if sub_list[0] == 1:\n",
    "            list[sub_list[3]] = list[sub_list[1]] + list[sub_list[2]]\n",
    "        elif sub_list[0] == 2:\n",
    "            list[sub_list[3]] = list[sub_list[1]] * list[sub_list[2]]\n",
    "        else:\n",
    "            break\n",
    "        p += 4\n",
    "        q += 4\n",
    "    return list[0]"
   ]
  },
  {
   "cell_type": "code",
   "execution_count": 13,
   "metadata": {},
   "outputs": [],
   "source": [
    "output = input_data"
   ]
  },
  {
   "cell_type": "code",
   "execution_count": 14,
   "metadata": {},
   "outputs": [
    {
     "data": {
      "text/plain": [
       "234699"
      ]
     },
     "execution_count": 14,
     "metadata": {},
     "output_type": "execute_result"
    }
   ],
   "source": [
    "intcode(output)"
   ]
  },
  {
   "cell_type": "code",
   "execution_count": 67,
   "metadata": {},
   "outputs": [
    {
     "name": "stdout",
     "output_type": "stream",
     "text": [
      "Part 1: 3306701\n",
      "Part 2: 7621\n"
     ]
    }
   ],
   "source": [
    "def run(noun, verb):\n",
    "  inp = input[:]\n",
    "  inp[1], inp[2], pointer = noun, verb, 0\n",
    "  while pointer < len(inp):\n",
    "    if inp[pointer] == 1:\n",
    "      inp[inp[pointer+3]] = inp[inp[pointer+1]]+inp[inp[pointer+2]]\n",
    "      pointer+=4\n",
    "    elif inp[pointer] == 2:\n",
    "      inp[inp[pointer+3]] = inp[inp[pointer+1]]*inp[inp[pointer+2]]\n",
    "      pointer+=4\n",
    "    elif inp[pointer] == 99:\n",
    "      return inp[0]\n",
    "    else:\n",
    "      return -1\n",
    "\n",
    "print(\"Part 1: \"+str(run(12,2)))\n",
    "\n",
    "for noun in range(100):\n",
    "  for verb in range(100):\n",
    "    if run(noun, verb) == 19690720:\n",
    "      print(\"Part 2: \"+str(100*noun+verb))"
   ]
  }
 ],
 "metadata": {
  "kernelspec": {
   "display_name": "Python 3",
   "language": "python",
   "name": "python3"
  },
  "language_info": {
   "codemirror_mode": {
    "name": "ipython",
    "version": 3
   },
   "file_extension": ".py",
   "mimetype": "text/x-python",
   "name": "python",
   "nbconvert_exporter": "python",
   "pygments_lexer": "ipython3",
   "version": "3.6.7"
  }
 },
 "nbformat": 4,
 "nbformat_minor": 2
}
