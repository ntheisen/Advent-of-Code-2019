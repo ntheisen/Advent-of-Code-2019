{
 "cells": [
  {
   "cell_type": "code",
   "execution_count": 1,
   "metadata": {},
   "outputs": [],
   "source": [
    "import math"
   ]
  },
  {
   "cell_type": "code",
   "execution_count": 2,
   "metadata": {},
   "outputs": [],
   "source": [
    "input = [line.rstrip().split(',') for line in open('day3_data.txt').readlines()]"
   ]
  },
  {
   "cell_type": "code",
   "execution_count": 3,
   "metadata": {},
   "outputs": [
    {
     "data": {
      "text/plain": [
       "['R1004', 'D53', 'L10', 'U126', 'R130']"
      ]
     },
     "execution_count": 3,
     "metadata": {},
     "output_type": "execute_result"
    }
   ],
   "source": [
    "input[0][:5]"
   ]
  },
  {
   "cell_type": "code",
   "execution_count": 4,
   "metadata": {},
   "outputs": [],
   "source": [
    "dist_x = {'L':-1, 'R':1, 'U':0, 'D':0}\n",
    "dist_y = {'L':0, 'R':0, 'U':1, 'D':-1}"
   ]
  },
  {
   "cell_type": "code",
   "execution_count": 5,
   "metadata": {},
   "outputs": [],
   "source": [
    "def get_points(cmds):\n",
    "    x = 0\n",
    "    y = 0\n",
    "    length = 0\n",
    "    ans = {}\n",
    "    for cmd in cmds:\n",
    "        d = cmd[0]\n",
    "        n = int(cmd[1:])\n",
    "        assert d in ['L', 'R', 'U', 'D']\n",
    "        for _ in range(n):\n",
    "            x += dist_x[d]\n",
    "            y += dist_y[d]\n",
    "            length +=1\n",
    "            if (x,y) not in ans:\n",
    "                ans[(x,y)] = length\n",
    "    return ans"
   ]
  },
  {
   "cell_type": "code",
   "execution_count": 8,
   "metadata": {},
   "outputs": [],
   "source": [
    "l1 = get_points(input[0])\n",
    "l2 = get_points(input[1])\n",
    "both = set(l1.keys() & l2.keys())"
   ]
  },
  {
   "cell_type": "code",
   "execution_count": 9,
   "metadata": {},
   "outputs": [
    {
     "name": "stdout",
     "output_type": "stream",
     "text": [
      "Part 1: 266\n",
      "Part 2: 19242\n"
     ]
    }
   ],
   "source": [
    "print(\"Part 1: \"+str(min(abs(x)+abs(y) for (x,y) in both)))\n",
    "print(\"Part 2: \"+str(min(l1[p]+l2[p] for p in both)))"
   ]
  }
 ],
 "metadata": {
  "kernelspec": {
   "display_name": "Python 3",
   "language": "python",
   "name": "python3"
  },
  "language_info": {
   "codemirror_mode": {
    "name": "ipython",
    "version": 3
   },
   "file_extension": ".py",
   "mimetype": "text/x-python",
   "name": "python",
   "nbconvert_exporter": "python",
   "pygments_lexer": "ipython3",
   "version": "3.6.7"
  }
 },
 "nbformat": 4,
 "nbformat_minor": 2
}
