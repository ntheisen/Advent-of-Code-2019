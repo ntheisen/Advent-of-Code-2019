{
 "cells": [
  {
   "cell_type": "code",
   "execution_count": 47,
   "metadata": {},
   "outputs": [],
   "source": [
    "def check_pwd(pwd):\n",
    "    digits = [int(d) for d in str(pwd)]\n",
    "    \n",
    "    prev_value = digits[0]\n",
    "    duplicates = 1\n",
    "    \n",
    "    for d in digits[1:]:\n",
    "        if d < prev_value:\n",
    "            return False\n",
    "        \n",
    "        if d == prev_value:\n",
    "            duplicates += 1\n",
    "        prev_value = d\n",
    "        \n",
    "    return duplicates >= 2"
   ]
  },
  {
   "cell_type": "code",
   "execution_count": 52,
   "metadata": {},
   "outputs": [
    {
     "name": "stdout",
     "output_type": "stream",
     "text": [
      "Part 1 Answer:  1625\n"
     ]
    }
   ],
   "source": [
    "print('Part 1 Answer: ', len([pwd for pwd in range(171309,643603) if check_pwd(pwd)]))"
   ]
  },
  {
   "cell_type": "code",
   "execution_count": 55,
   "metadata": {},
   "outputs": [],
   "source": [
    "def check_pwd2(pwd):\n",
    "    digits = [int(d) for d in str(pwd)]\n",
    "    \n",
    "    prev_value = digits[0]\n",
    "    duplicates = 1\n",
    "    has_dup = False\n",
    "    \n",
    "    for d in digits[1:]:\n",
    "        if d < prev_value:\n",
    "            return False\n",
    "        \n",
    "        if d == prev_value:\n",
    "            duplicates += 1\n",
    "        else:\n",
    "            has_dup = has_dup or (duplicates == 2)\n",
    "            duplicates = 1\n",
    "        prev_value = d\n",
    "        \n",
    "    return has_dup or (duplicates == 2)"
   ]
  },
  {
   "cell_type": "code",
   "execution_count": 56,
   "metadata": {},
   "outputs": [
    {
     "name": "stdout",
     "output_type": "stream",
     "text": [
      "Part 2 Answer:  1111\n"
     ]
    }
   ],
   "source": [
    "print('Part 2 Answer: ', len([pwd for pwd in range(171309, 643603) if check_pwd2(pwd)]))"
   ]
  },
  {
   "cell_type": "code",
   "execution_count": null,
   "metadata": {},
   "outputs": [],
   "source": []
  }
 ],
 "metadata": {
  "kernelspec": {
   "display_name": "Python 3",
   "language": "python",
   "name": "python3"
  },
  "language_info": {
   "codemirror_mode": {
    "name": "ipython",
    "version": 3
   },
   "file_extension": ".py",
   "mimetype": "text/x-python",
   "name": "python",
   "nbconvert_exporter": "python",
   "pygments_lexer": "ipython3",
   "version": "3.6.7"
  }
 },
 "nbformat": 4,
 "nbformat_minor": 2
}
