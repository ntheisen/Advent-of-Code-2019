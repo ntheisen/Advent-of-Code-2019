{
 "cells": [
  {
   "cell_type": "code",
   "execution_count": 8,
   "metadata": {},
   "outputs": [],
   "source": [
    "#Day 1 Problem 1"
   ]
  },
  {
   "cell_type": "code",
   "execution_count": 10,
   "metadata": {},
   "outputs": [],
   "source": [
    "stars = [110321,\n",
    "61817,\n",
    "107271,\n",
    "126609,\n",
    "84016,\n",
    "119187,\n",
    "53199,\n",
    "117553,\n",
    "83163,\n",
    "69434,\n",
    "62734,\n",
    "76774,\n",
    "75016,\n",
    "126859,\n",
    "114626,\n",
    "70782,\n",
    "102903,\n",
    "105871,\n",
    "108500,\n",
    "149367,\n",
    "99266,\n",
    "131731,\n",
    "86778,\n",
    "110561,\n",
    "116521,\n",
    "138216,\n",
    "55347,\n",
    "135516,\n",
    "126801,\n",
    "124902,\n",
    "103083,\n",
    "130858,\n",
    "54885,\n",
    "126837,\n",
    "71103,\n",
    "143975,\n",
    "135207,\n",
    "77264,\n",
    "149331,\n",
    "85252,\n",
    "78910,\n",
    "84007,\n",
    "123953,\n",
    "87355,\n",
    "113433,\n",
    "57750,\n",
    "78394,\n",
    "106081,\n",
    "110942,\n",
    "118180,\n",
    "71745,\n",
    "60080,\n",
    "56637,\n",
    "105491,\n",
    "111329,\n",
    "71799,\n",
    "59962,\n",
    "60597,\n",
    "75241,\n",
    "102506,\n",
    "75341,\n",
    "129539,\n",
    "71011,\n",
    "127185,\n",
    "51245,\n",
    "144401,\n",
    "78592,\n",
    "116835,\n",
    "52029,\n",
    "134905,\n",
    "80104,\n",
    "146304,\n",
    "113780,\n",
    "108124,\n",
    "131268,\n",
    "124765,\n",
    "78847,\n",
    "76897,\n",
    "56445,\n",
    "116487,\n",
    "62068,\n",
    "125176,\n",
    "122259,\n",
    "134261,\n",
    "101127,\n",
    "127089,\n",
    "55793,\n",
    "113113,\n",
    "132835,\n",
    "118901,\n",
    "59574,\n",
    "113399,\n",
    "73232,\n",
    "93720,\n",
    "144450,\n",
    "129604,\n",
    "101741,\n",
    "108759,\n",
    "55891,\n",
    "52939]"
   ]
  },
  {
   "cell_type": "code",
   "execution_count": 13,
   "metadata": {},
   "outputs": [],
   "source": [
    "def fuel_needed(list):\n",
    "    total_fuel = 0\n",
    "    for i in list:\n",
    "        fuel = int(i/3)-2\n",
    "        total_fuel += fuel\n",
    "    return total_fuel"
   ]
  },
  {
   "cell_type": "code",
   "execution_count": 14,
   "metadata": {},
   "outputs": [
    {
     "data": {
      "text/plain": [
       "3301059"
      ]
     },
     "execution_count": 14,
     "metadata": {},
     "output_type": "execute_result"
    }
   ],
   "source": [
    "fuel_needed(stars)"
   ]
  },
  {
   "cell_type": "code",
   "execution_count": 15,
   "metadata": {},
   "outputs": [],
   "source": [
    "#Day 1 Problem 2"
   ]
  },
  {
   "cell_type": "code",
   "execution_count": 40,
   "metadata": {},
   "outputs": [],
   "source": [
    "i = 1969\n",
    "sub = 0\n",
    "while i > 0:\n",
    "    fuel = int(i/3)-2\n",
    "    if fuel <= 0:\n",
    "        break\n",
    "    sub += fuel\n",
    "    i = fuel"
   ]
  },
  {
   "cell_type": "code",
   "execution_count": 41,
   "metadata": {},
   "outputs": [
    {
     "data": {
      "text/plain": [
       "966"
      ]
     },
     "execution_count": 41,
     "metadata": {},
     "output_type": "execute_result"
    }
   ],
   "source": [
    "sub"
   ]
  },
  {
   "cell_type": "code",
   "execution_count": 42,
   "metadata": {},
   "outputs": [],
   "source": [
    "def total_fuel(list):\n",
    "    total_fuel = 0\n",
    "    for i in list:\n",
    "        sub = 0\n",
    "        while i > 0:\n",
    "            fuel = int(i/3)-2\n",
    "            if fuel <= 0:\n",
    "                break\n",
    "            sub += fuel\n",
    "            i = fuel\n",
    "        total_fuel += sub\n",
    "    return total_fuel"
   ]
  },
  {
   "cell_type": "code",
   "execution_count": 43,
   "metadata": {},
   "outputs": [
    {
     "data": {
      "text/plain": [
       "966"
      ]
     },
     "execution_count": 43,
     "metadata": {},
     "output_type": "execute_result"
    }
   ],
   "source": [
    "total_fuel([1969])"
   ]
  },
  {
   "cell_type": "code",
   "execution_count": 44,
   "metadata": {},
   "outputs": [
    {
     "data": {
      "text/plain": [
       "50346"
      ]
     },
     "execution_count": 44,
     "metadata": {},
     "output_type": "execute_result"
    }
   ],
   "source": [
    "total_fuel([100756])"
   ]
  },
  {
   "cell_type": "code",
   "execution_count": 45,
   "metadata": {},
   "outputs": [
    {
     "data": {
      "text/plain": [
       "4948732"
      ]
     },
     "execution_count": 45,
     "metadata": {},
     "output_type": "execute_result"
    }
   ],
   "source": [
    "total_fuel(stars)"
   ]
  },
  {
   "cell_type": "code",
   "execution_count": null,
   "metadata": {},
   "outputs": [],
   "source": []
  }
 ],
 "metadata": {
  "kernelspec": {
   "display_name": "Python 3",
   "language": "python",
   "name": "python3"
  },
  "language_info": {
   "codemirror_mode": {
    "name": "ipython",
    "version": 3
   },
   "file_extension": ".py",
   "mimetype": "text/x-python",
   "name": "python",
   "nbconvert_exporter": "python",
   "pygments_lexer": "ipython3",
   "version": "3.6.7"
  }
 },
 "nbformat": 4,
 "nbformat_minor": 2
}
