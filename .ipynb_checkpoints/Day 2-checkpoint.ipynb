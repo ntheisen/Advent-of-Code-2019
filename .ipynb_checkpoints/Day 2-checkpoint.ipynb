{
 "cells": [
  {
   "cell_type": "code",
   "execution_count": 60,
   "metadata": {},
   "outputs": [],
   "source": [
    "input = [1,12,2,3,1,1,2,3,1,3,4,3,1,5,0,3,2,13,1,19,1,9,19,23,2,23,13,27,1,27,9,31,2,31,6,35,1,5,35,39,1,10,39,43,2,43,6,\\\n",
    "         47,1,10,47,51,2,6,51,55,1,5,55,59,1,59,9,63,1,13,63,67,2,6,67,71,1,5,71,75,2,6,75,79,2,79,6,83,1,13,83,87,1,9,87,\\\n",
    "         91,1,9,91,95,1,5,95,99,1,5,99,103,2,13,103,107,1,6,107,111,1,9,111,115,2,6,115,119,1,13,119,123,1,123,6,127,1,\\\n",
    "         127,5,131,2,10,131,135,2,135,10,139,1,13,139,143,1,10,143,147,1,2,147,151,1,6,151,0,99,2,14,0,0]"
   ]
  },
  {
   "cell_type": "code",
   "execution_count": 65,
   "metadata": {},
   "outputs": [],
   "source": [
    "#Day 2 Problem 1\n",
    "def intcode(list):\n",
    "    p = 0\n",
    "    q = 4\n",
    "    while p < len(list):\n",
    "        sub_list = list[p:q]\n",
    "        if sub_list[0] == 1:\n",
    "            list[sub_list[3]] = list[sub_list[1]] + list[sub_list[2]]\n",
    "        elif sub_list[0] == 2:\n",
    "            list[sub_list[3]] = list[sub_list[1]] * list[sub_list[2]]\n",
    "        else:\n",
    "            break\n",
    "        p += 4\n",
    "        q += 4\n",
    "    return list[0]"
   ]
  },
  {
   "cell_type": "code",
   "execution_count": 66,
   "metadata": {},
   "outputs": [
    {
     "data": {
      "text/plain": [
       "3306701"
      ]
     },
     "execution_count": 66,
     "metadata": {},
     "output_type": "execute_result"
    }
   ],
   "source": [
    "intcode(out)"
   ]
  },
  {
   "cell_type": "code",
   "execution_count": 67,
   "metadata": {},
   "outputs": [
    {
     "name": "stdout",
     "output_type": "stream",
     "text": [
      "Part 1: 3306701\n",
      "Part 2: 7621\n"
     ]
    }
   ],
   "source": [
    "def run(noun, verb):\n",
    "  inp = input[:]\n",
    "  inp[1], inp[2], pointer = noun, verb, 0\n",
    "  while pointer < len(inp):\n",
    "    if inp[pointer] == 1:\n",
    "      inp[inp[pointer+3]] = inp[inp[pointer+1]]+inp[inp[pointer+2]]\n",
    "      pointer+=4\n",
    "    elif inp[pointer] == 2:\n",
    "      inp[inp[pointer+3]] = inp[inp[pointer+1]]*inp[inp[pointer+2]]\n",
    "      pointer+=4\n",
    "    elif inp[pointer] == 99:\n",
    "      return inp[0]\n",
    "    else:\n",
    "      return -1\n",
    "\n",
    "print(\"Part 1: \"+str(run(12,2)))\n",
    "\n",
    "for noun in range(100):\n",
    "  for verb in range(100):\n",
    "    if run(noun, verb) == 19690720:\n",
    "      print(\"Part 2: \"+str(100*noun+verb))"
   ]
  },
  {
   "cell_type": "code",
   "execution_count": null,
   "metadata": {},
   "outputs": [],
   "source": []
  }
 ],
 "metadata": {
  "kernelspec": {
   "display_name": "Python 3",
   "language": "python",
   "name": "python3"
  },
  "language_info": {
   "codemirror_mode": {
    "name": "ipython",
    "version": 3
   },
   "file_extension": ".py",
   "mimetype": "text/x-python",
   "name": "python",
   "nbconvert_exporter": "python",
   "pygments_lexer": "ipython3",
   "version": "3.6.7"
  }
 },
 "nbformat": 4,
 "nbformat_minor": 2
}
